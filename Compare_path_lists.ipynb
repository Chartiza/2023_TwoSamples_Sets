{
 "cells": [
  {
   "cell_type": "code",
   "execution_count": 1,
   "metadata": {},
   "outputs": [],
   "source": [
    "# import packages\n",
    "import matplotlib.pyplot as plt\n",
    "import pandas as pd\n",
    "import seaborn as sns \n",
    "import numpy as np\n",
    "from matplotlib_venn import venn2"
   ]
  },
  {
   "attachments": {},
   "cell_type": "markdown",
   "metadata": {},
   "source": [
    "## Illumina samples list"
   ]
  },
  {
   "cell_type": "code",
   "execution_count": 12,
   "metadata": {},
   "outputs": [
    {
     "data": {
      "text/html": [
       "<div>\n",
       "<style scoped>\n",
       "    .dataframe tbody tr th:only-of-type {\n",
       "        vertical-align: middle;\n",
       "    }\n",
       "\n",
       "    .dataframe tbody tr th {\n",
       "        vertical-align: top;\n",
       "    }\n",
       "\n",
       "    .dataframe thead th {\n",
       "        text-align: right;\n",
       "    }\n",
       "</style>\n",
       "<table border=\"1\" class=\"dataframe\">\n",
       "  <thead>\n",
       "    <tr style=\"text-align: right;\">\n",
       "      <th></th>\n",
       "      <th>path</th>\n",
       "      <th>sample_name</th>\n",
       "    </tr>\n",
       "  </thead>\n",
       "  <tbody>\n",
       "    <tr>\n",
       "      <th>0</th>\n",
       "      <td>/gpfs/space/GI/GV/EGCUT_data/omics_data/microb...</td>\n",
       "      <td>V0OK4P</td>\n",
       "    </tr>\n",
       "    <tr>\n",
       "      <th>1</th>\n",
       "      <td>/gpfs/space/GI/GV/EGCUT_data/omics_data/microb...</td>\n",
       "      <td>V14WFH</td>\n",
       "    </tr>\n",
       "  </tbody>\n",
       "</table>\n",
       "</div>"
      ],
      "text/plain": [
       "                                                path sample_name\n",
       "0  /gpfs/space/GI/GV/EGCUT_data/omics_data/microb...      V0OK4P\n",
       "1  /gpfs/space/GI/GV/EGCUT_data/omics_data/microb...      V14WFH"
      ]
     },
     "execution_count": 12,
     "metadata": {},
     "output_type": "execute_result"
    }
   ],
   "source": [
    "# read all Illumina path list\n",
    "ill_path = pd.read_csv('input/all_Illumina_raw_path.csv', header=None)\n",
    "ill_path.columns = ['path']\n",
    "ill_path['sample_name'] = ill_path['path'].str.split('/').str[15]\n",
    "ill_path.head(2)"
   ]
  },
  {
   "cell_type": "code",
   "execution_count": 13,
   "metadata": {},
   "outputs": [
    {
     "data": {
      "text/html": [
       "<div>\n",
       "<style scoped>\n",
       "    .dataframe tbody tr th:only-of-type {\n",
       "        vertical-align: middle;\n",
       "    }\n",
       "\n",
       "    .dataframe tbody tr th {\n",
       "        vertical-align: top;\n",
       "    }\n",
       "\n",
       "    .dataframe thead th {\n",
       "        text-align: right;\n",
       "    }\n",
       "</style>\n",
       "<table border=\"1\" class=\"dataframe\">\n",
       "  <thead>\n",
       "    <tr style=\"text-align: right;\">\n",
       "      <th></th>\n",
       "      <th>sample_name</th>\n",
       "    </tr>\n",
       "  </thead>\n",
       "  <tbody>\n",
       "    <tr>\n",
       "      <th>0</th>\n",
       "      <td>MB04.B10</td>\n",
       "    </tr>\n",
       "    <tr>\n",
       "      <th>1</th>\n",
       "      <td>MB06.H2</td>\n",
       "    </tr>\n",
       "  </tbody>\n",
       "</table>\n",
       "</div>"
      ],
      "text/plain": [
       "  sample_name\n",
       "0    MB04.B10\n",
       "1     MB06.H2"
      ]
     },
     "execution_count": 13,
     "metadata": {},
     "output_type": "execute_result"
    }
   ],
   "source": [
    "# read the list of done Illumina samples\n",
    "ill_p1 = pd.read_csv('input/name_Illumina_p1.csv', header=None)\n",
    "ill_p1.columns = ['sample_name']\n",
    "ill_p1.head(2)"
   ]
  },
  {
   "cell_type": "code",
   "execution_count": 16,
   "metadata": {},
   "outputs": [
    {
     "name": "stdout",
     "output_type": "stream",
     "text": [
      "Illumina path list:  2521\n",
      "Illumina p1 list:  1481\n"
     ]
    }
   ],
   "source": [
    "# How much samples are in both lists?\n",
    "print('Illumina path list: ', len(ill_path))\n",
    "print('Illumina p1 list: ', len(ill_p1))"
   ]
  },
  {
   "cell_type": "code",
   "execution_count": 15,
   "metadata": {},
   "outputs": [
    {
     "name": "stdout",
     "output_type": "stream",
     "text": [
      "1039\n"
     ]
    }
   ],
   "source": [
    "# find not present in p1 samples\n",
    "mrg = pd.merge(ill_path, ill_p1, on='sample_name', how='outer')\n",
    "mrg = mrg[~mrg['sample_name'].isin(ill_p1['sample_name'])]\n",
    "\n",
    "print(len(mrg))\n",
    "\n",
    "mrg1 = mrg['path']\n",
    "mrg1.to_csv('results/Illumina_raw_path_p2.csv.csv', index=False)"
   ]
  },
  {
   "attachments": {},
   "cell_type": "markdown",
   "metadata": {},
   "source": [
    "## BGI samples list"
   ]
  },
  {
   "cell_type": "code",
   "execution_count": 31,
   "metadata": {},
   "outputs": [
    {
     "name": "stderr",
     "output_type": "stream",
     "text": [
      "/var/folders/5j/pvj6k02n3mn9ztpn77vjtfzw0000gn/T/ipykernel_7326/4240604635.py:6: FutureWarning: The default value of regex will change from True to False in a future version.\n",
      "  bgi_path['sample_line'] = bgi_path['sample_line'].str.replace('_1.fq.gz', '')\n"
     ]
    },
    {
     "data": {
      "text/html": [
       "<div>\n",
       "<style scoped>\n",
       "    .dataframe tbody tr th:only-of-type {\n",
       "        vertical-align: middle;\n",
       "    }\n",
       "\n",
       "    .dataframe tbody tr th {\n",
       "        vertical-align: top;\n",
       "    }\n",
       "\n",
       "    .dataframe thead th {\n",
       "        text-align: right;\n",
       "    }\n",
       "</style>\n",
       "<table border=\"1\" class=\"dataframe\">\n",
       "  <thead>\n",
       "    <tr style=\"text-align: right;\">\n",
       "      <th></th>\n",
       "      <th>path</th>\n",
       "      <th>sample_name</th>\n",
       "      <th>sample_line</th>\n",
       "    </tr>\n",
       "  </thead>\n",
       "  <tbody>\n",
       "    <tr>\n",
       "      <th>0</th>\n",
       "      <td>lab20/V3276M/E100013465_L01_26_1.fq.gz</td>\n",
       "      <td>V3276M</td>\n",
       "      <td>E100013465_L01_26</td>\n",
       "    </tr>\n",
       "    <tr>\n",
       "      <th>1</th>\n",
       "      <td>lab20/V32MIP/E100009727_L01_77_1.fq.gz</td>\n",
       "      <td>V32MIP</td>\n",
       "      <td>E100009727_L01_77</td>\n",
       "    </tr>\n",
       "  </tbody>\n",
       "</table>\n",
       "</div>"
      ],
      "text/plain": [
       "                                     path sample_name        sample_line\n",
       "0  lab20/V3276M/E100013465_L01_26_1.fq.gz      V3276M  E100013465_L01_26\n",
       "1  lab20/V32MIP/E100009727_L01_77_1.fq.gz      V32MIP  E100009727_L01_77"
      ]
     },
     "execution_count": 31,
     "metadata": {},
     "output_type": "execute_result"
    }
   ],
   "source": [
    "# read all Illumina path list\n",
    "bgi_path = pd.read_csv('input/all_BGI_raw_path.csv', header=None)\n",
    "bgi_path.columns = ['path']\n",
    "bgi_path['sample_name'] = bgi_path['path'].str.split('/').str[1]\n",
    "bgi_path['sample_line'] = bgi_path['path'].str.split('/').str[2]\n",
    "bgi_path['sample_line'] = bgi_path['sample_line'].str.replace('_1.fq.gz', '')\n",
    "bgi_path.head(2)"
   ]
  },
  {
   "cell_type": "code",
   "execution_count": 35,
   "metadata": {},
   "outputs": [
    {
     "name": "stderr",
     "output_type": "stream",
     "text": [
      "/var/folders/5j/pvj6k02n3mn9ztpn77vjtfzw0000gn/T/ipykernel_7326/1898556519.py:4: FutureWarning: The default value of regex will change from True to False in a future version.\n",
      "  bgi_p1['sample_line'] = bgi_p1['sample_line'].str.replace('_1_fastqc.zip', '')\n"
     ]
    },
    {
     "data": {
      "text/html": [
       "<div>\n",
       "<style scoped>\n",
       "    .dataframe tbody tr th:only-of-type {\n",
       "        vertical-align: middle;\n",
       "    }\n",
       "\n",
       "    .dataframe tbody tr th {\n",
       "        vertical-align: top;\n",
       "    }\n",
       "\n",
       "    .dataframe thead th {\n",
       "        text-align: right;\n",
       "    }\n",
       "</style>\n",
       "<table border=\"1\" class=\"dataframe\">\n",
       "  <thead>\n",
       "    <tr style=\"text-align: right;\">\n",
       "      <th></th>\n",
       "      <th>sample_line</th>\n",
       "    </tr>\n",
       "  </thead>\n",
       "  <tbody>\n",
       "    <tr>\n",
       "      <th>285</th>\n",
       "      <td>E100016770_L01_66</td>\n",
       "    </tr>\n",
       "    <tr>\n",
       "      <th>286</th>\n",
       "      <td>E100016770_L01_92</td>\n",
       "    </tr>\n",
       "  </tbody>\n",
       "</table>\n",
       "</div>"
      ],
      "text/plain": [
       "           sample_line\n",
       "285  E100016770_L01_66\n",
       "286  E100016770_L01_92"
      ]
     },
     "execution_count": 35,
     "metadata": {},
     "output_type": "execute_result"
    }
   ],
   "source": [
    "# read the list of done BGI samples\n",
    "bgi_p1 = pd.read_csv('input/name_BGI_p1.csv', header=None)\n",
    "bgi_p1.columns = ['sample_line']\n",
    "bgi_p1['sample_line'] = bgi_p1['sample_line'].str.replace('_1_fastqc.zip', '')\n",
    "bgi_p1.tail(2)"
   ]
  },
  {
   "cell_type": "code",
   "execution_count": 36,
   "metadata": {},
   "outputs": [
    {
     "name": "stdout",
     "output_type": "stream",
     "text": [
      "BGI path list:  1982\n",
      "BGI p1 list:  287\n"
     ]
    }
   ],
   "source": [
    "# How much samples are in both lists?\n",
    "print('BGI path list: ', len(bgi_path))\n",
    "print('BGI p1 list: ', len(bgi_p1))"
   ]
  },
  {
   "cell_type": "code",
   "execution_count": 39,
   "metadata": {},
   "outputs": [
    {
     "name": "stdout",
     "output_type": "stream",
     "text": [
      "1695\n"
     ]
    }
   ],
   "source": [
    "# find not present in p1 samples\n",
    "mrgB = pd.merge(bgi_path, bgi_p1, on='sample_line', how='outer')\n",
    "mrgB = mrgB[~mrgB['sample_line'].isin(bgi_p1['sample_line'])]\n",
    "\n",
    "print(len(mrgB))\n",
    "\n",
    "mrgB1 = mrgB['path']\n",
    "mrgB1.to_csv('results/BGI_raw_path_p2.csv', index=False)"
   ]
  },
  {
   "cell_type": "code",
   "execution_count": null,
   "metadata": {},
   "outputs": [],
   "source": []
  }
 ],
 "metadata": {
  "kernelspec": {
   "display_name": "Python 3",
   "language": "python",
   "name": "python3"
  },
  "language_info": {
   "codemirror_mode": {
    "name": "ipython",
    "version": 3
   },
   "file_extension": ".py",
   "mimetype": "text/x-python",
   "name": "python",
   "nbconvert_exporter": "python",
   "pygments_lexer": "ipython3",
   "version": "3.9.6"
  }
 },
 "nbformat": 4,
 "nbformat_minor": 2
}
